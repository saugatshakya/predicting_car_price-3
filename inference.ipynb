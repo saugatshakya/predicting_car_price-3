{
 "cells": [
  {
   "cell_type": "code",
   "execution_count": 1,
   "id": "f41dff19",
   "metadata": {},
   "outputs": [
    {
     "name": "stderr",
     "output_type": "stream",
     "text": [
      "/Users/saugatshakya/Library/Python/3.9/lib/python/site-packages/urllib3/__init__.py:35: NotOpenSSLWarning: urllib3 v2 only supports OpenSSL 1.1.1+, currently the 'ssl' module is compiled with 'LibreSSL 2.8.3'. See: https://github.com/urllib3/urllib3/issues/3020\n",
      "  warnings.warn(\n"
     ]
    }
   ],
   "source": [
    "import os\n",
    "import mlflow\n",
    "import mlflow.pyfunc\n",
    "import pandas as pd\n",
    "\n",
    "\n",
    "os.environ[\"MLFLOW_TRACKING_USERNAME\"] = \"admin\"\n",
    "os.environ[\"MLFLOW_TRACKING_PASSWORD\"] = \"password\""
   ]
  },
  {
   "cell_type": "code",
   "execution_count": 2,
   "id": "efeb6251",
   "metadata": {},
   "outputs": [
    {
     "data": {
      "text/plain": [
       "<Experiment: artifact_location='mlflow-artifacts:/226583874314941070', creation_time=1759506644227, experiment_id='226583874314941070', last_update_time=1759506644227, lifecycle_stage='active', name='st125986-a3', tags={'mlflow.experimentKind': 'custom_model_development'}>"
      ]
     },
     "execution_count": 2,
     "metadata": {},
     "output_type": "execute_result"
    }
   ],
   "source": [
    "mlflow.set_tracking_uri(\"https://mlflow.ml.brain.cs.ait.ac.th/\")\n",
    "mlflow.set_experiment(\"st125986-a3\")"
   ]
  },
  {
   "cell_type": "code",
   "execution_count": 3,
   "id": "ae64d16c",
   "metadata": {},
   "outputs": [],
   "source": [
    "# Now you can pass raw Pandas DataFrame/Series directly\n",
    "sample_df = pd.DataFrame([{\n",
    "    'year': 2014,\n",
    "    'km_driven': 145500,\n",
    "    'fuel': 'Diesel',\n",
    "    'seller_type': 'Individual',\n",
    "    'transmission': 'Manual',\n",
    "    'owner': 1,\n",
    "    'mileage': 23.4,\n",
    "    'engine': 1248.0,\n",
    "    'max_power': 74.0,\n",
    "    'seats': 5.0,\n",
    "    'brand': 'Maruti',\n",
    "    'brand_type': 'Mass-Market'\n",
    "}])"
   ]
  },
  {
   "cell_type": "code",
   "execution_count": 4,
   "id": "e899abf9",
   "metadata": {},
   "outputs": [
    {
     "name": "stderr",
     "output_type": "stream",
     "text": [
      "/Users/saugatshakya/Library/Python/3.9/lib/python/site-packages/tqdm/auto.py:21: TqdmWarning: IProgress not found. Please update jupyter and ipywidgets. See https://ipywidgets.readthedocs.io/en/stable/user_install.html\n",
      "  from .autonotebook import tqdm as notebook_tqdm\n",
      "Downloading artifacts: 100%|██████████| 7/7 [00:00<00:00, 21.97it/s]\n"
     ]
    },
    {
     "name": "stdout",
     "output_type": "stream",
     "text": [
      "Predicted price: [3]\n"
     ]
    }
   ],
   "source": [
    "# Load from MLflow registry\n",
    "model_uri = \"models:/st125986-a3-model/latest\"\n",
    "loaded_model = mlflow.pyfunc.load_model(model_uri)\n",
    "\n",
    "prediction = loaded_model.predict(sample_df)\n",
    "print(\"Predicted price:\", prediction)"
   ]
  },
  {
   "cell_type": "code",
   "execution_count": null,
   "id": "f8659d20",
   "metadata": {},
   "outputs": [],
   "source": []
  }
 ],
 "metadata": {
  "kernelspec": {
   "display_name": "Python 3",
   "language": "python",
   "name": "python3"
  },
  "language_info": {
   "codemirror_mode": {
    "name": "ipython",
    "version": 3
   },
   "file_extension": ".py",
   "mimetype": "text/x-python",
   "name": "python",
   "nbconvert_exporter": "python",
   "pygments_lexer": "ipython3",
   "version": "3.9.6"
  }
 },
 "nbformat": 4,
 "nbformat_minor": 5
}
